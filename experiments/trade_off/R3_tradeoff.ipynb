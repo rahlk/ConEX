{
 "cells": [
  {
   "cell_type": "code",
   "execution_count": 1,
   "metadata": {},
   "outputs": [],
   "source": [
    "# huge = large\n",
    "# huge['Perf'] = huge.Perf.apply(lambda x: x*10 + random.normal(100000, 200000, 1)) \n",
    "# huge['Perf'] = huge.Perf.apply(lambda x: int(x[0]))\n",
    "# huge"
   ]
  },
  {
   "cell_type": "code",
   "execution_count": 5,
   "metadata": {},
   "outputs": [
    {
     "name": "stdout",
     "output_type": "stream",
     "text": [
      "     iter        date      time  conf   perf  runtime\n",
      "0       0  2020-18-03  23:22:05     0   7529       75\n",
      "1       1  2020-18-03  23:25:08     4   9606      171\n",
      "2       2  2020-18-03  23:27:45     5   9873      270\n",
      "3       3  2020-18-03  23:29:51     7  10720      377\n",
      "4       4  2020-18-03  23:31:58     9   9250      469\n",
      "..    ...         ...       ...   ...    ...      ...\n",
      "228   228  2020-19-03  10:15:41   541  21940    31255\n",
      "229   229  2020-19-03  10:18:29   542  18280    31437\n",
      "230   230  2020-19-03  10:22:07   543  18963    31627\n",
      "231   231  2020-19-03  10:25:44   545  19710    31824\n",
      "232   232  2020-19-03  10:29:22   546  19560    32020\n",
      "\n",
      "[233 rows x 6 columns]\n",
      "     iter        date      time  conf    perf  runtime\n",
      "0       0  2020-25-03  17:59:13     0  450706     4507\n",
      "1       1  2020-25-03  18:05:42     1  533640     9843\n",
      "2       2  2020-25-03  18:13:01     2  422003    14063\n",
      "3       3  2020-25-03  18:18:49     3  526280    19326\n",
      "4       4  2020-25-03  18:28:31     6  464960    23975\n",
      "..    ...         ...       ...   ...     ...      ...\n",
      "105   105  2020-26-03  18:20:27   251  390300   483133\n",
      "106   106  2020-26-03  18:35:24   252  365703   486790\n",
      "107   107  2020-26-03  18:50:11   253  368343   490473\n",
      "108   108  2020-26-03  19:01:56   254  371120   494185\n",
      "109   109  2020-26-03  19:16:09   256  408576   498270\n",
      "\n",
      "[110 rows x 6 columns]\n",
      "450706\n"
     ]
    },
    {
     "data": {
      "text/html": [
       "<div>\n",
       "<style scoped>\n",
       "    .dataframe tbody tr th:only-of-type {\n",
       "        vertical-align: middle;\n",
       "    }\n",
       "\n",
       "    .dataframe tbody tr th {\n",
       "        vertical-align: top;\n",
       "    }\n",
       "\n",
       "    .dataframe thead th {\n",
       "        text-align: right;\n",
       "    }\n",
       "</style>\n",
       "<table border=\"1\" class=\"dataframe\">\n",
       "  <thead>\n",
       "    <tr style=\"text-align: right;\">\n",
       "      <th></th>\n",
       "      <th>iter</th>\n",
       "      <th>date</th>\n",
       "      <th>time</th>\n",
       "      <th>conf</th>\n",
       "      <th>perf</th>\n",
       "      <th>runtime</th>\n",
       "      <th>Gain</th>\n",
       "    </tr>\n",
       "  </thead>\n",
       "  <tbody>\n",
       "    <tr>\n",
       "      <th>2</th>\n",
       "      <td>2</td>\n",
       "      <td>2020-25-03</td>\n",
       "      <td>18:13:01</td>\n",
       "      <td>2</td>\n",
       "      <td>422003</td>\n",
       "      <td>14063</td>\n",
       "      <td>6.368453</td>\n",
       "    </tr>\n",
       "  </tbody>\n",
       "</table>\n",
       "</div>"
      ],
      "text/plain": [
       "   iter        date      time  conf    perf  runtime      Gain\n",
       "2     2  2020-25-03  18:13:01     2  422003    14063  6.368453"
      ]
     },
     "execution_count": 5,
     "metadata": {},
     "output_type": "execute_result"
    },
    {
     "data": {
      "image/png": "[encoded data removed]",
      "text/plain": [
       "<Figure size 432x288 with 1 Axes>"
      ]
     },
     "metadata": {
      "needs_background": "light"
     },
     "output_type": "display_data"
    }
   ],
   "source": [
    "import matplotlib.pyplot as plt\n",
    "from numpy import random \n",
    "import pandas as pd\n",
    "from pdb import set_trace\n",
    "from datetime import datetime\n",
    "\n",
    "small = pd.read_csv('hadoop_small_results.csv')\n",
    "small.columns = ['iter', 'date', 'time', 'conf', 'perf']\n",
    "# small['runtime'] = small.perf.cumsum()\n",
    "small['runtime'] = small.runtime.apply(lambda x: int(x/100))\n",
    "print(small)\n",
    "\n",
    "large = pd.read_csv('hadoop_large_results.csv', header=None)\n",
    "large.columns = ['date', 'time', 'conf', 'perf']\n",
    "large['iter'] = list(range(len(large)))\n",
    "large = large[['iter', 'date', 'time', 'conf', 'perf']]\n",
    "large['runtime'] = large.perf.cumsum()\n",
    "large['runtime'] = large.runtime.apply(lambda x: int(x/100))\n",
    "print(large)\n",
    "\n",
    "i = 0\n",
    "for small_val in small.runtime:\n",
    "    if large.runtime.iloc[i] <= small_val:\n",
    "        i += 1\n",
    "\n",
    "large = large.iloc[:6]\n",
    "\n",
    "baseline = large.perf.iloc[0]\n",
    "print(baseline)\n",
    "large['Gain'] = large.perf.apply(lambda x: (baseline-x)/baseline * 100)\n",
    "large.plot(kind='line', y='Gain')\n",
    "large.loc[large.perf == large.perf.min()]\n"
   ]
  },
  {
   "cell_type": "code",
   "execution_count": null,
   "metadata": {},
   "outputs": [],
   "source": []
  }
 ],
 "metadata": {
  "kernelspec": {
   "display_name": "Python 3",
   "language": "python",
   "name": "python3"
  },
  "language_info": {
   "codemirror_mode": {
    "name": "ipython",
    "version": 3
   },
   "file_extension": ".py",
   "mimetype": "text/x-python",
   "name": "python",
   "nbconvert_exporter": "python",
   "pygments_lexer": "ipython3",
   "version": "3.7.4"
  }
 },
 "nbformat": 4,
 "nbformat_minor": 2
}
