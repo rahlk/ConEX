{
 "cells": [
  {
   "cell_type": "code",
   "execution_count": 14,
   "metadata": {},
   "outputs": [
    {
     "data": {
      "text/plain": [
       "<Figure size 432x288 with 0 Axes>"
      ]
     },
     "metadata": {},
     "output_type": "display_data"
    }
   ],
   "source": [
    "import pandas as pd\n",
    "import sys\n",
    "from pdb import set_trace\n",
    "import matplotlib\n",
    "import seaborn as sns; sns.set()\n",
    "import matplotlib.pyplot as plt\n",
    "import matplotlib.ticker as ticker\n",
    "# matplotlib.rcParams['text.usetex'] = True\n",
    "matplotlib.rcParams['pdf.fonttype'] = 42\n",
    "matplotlib.rcParams['ps.fonttype'] = 42\n",
    "# --- Configure seaborn ---\n",
    "sns.set_style(\"ticks\")\n",
    "sns.set_style({'font.family': 'Helvetica 400'})\n",
    "sns.set_context(\"poster\", font_scale=1, rc={\"lines.linewidth\": 2})\n",
    "# colors = [\"pale red\", \"windows blue\", \"green grey\", \"dusty purple\", \"amber\", \"burnt orange\"]\n",
    "greys = sns.color_palette('Greys_r', 8)\n",
    "# sns.set_palette(sns.xkcd_palette(colors))\n",
    "sns.set_palette(greys)\n",
    "\n",
    "def preprocess_data(dat):\n",
    "    default = dat.iloc[0][0]\n",
    "    data_dict = {\n",
    "        \"Rank\": [\"Top-1\"],\n",
    "        \"Perf\": [round((default-dat.iloc[1][0])*100/default,2)],\n",
    "    }\n",
    "    \n",
    "    for i in range(1, 4):\n",
    "        perf = dat.iloc[i][0]\n",
    "        gain = round((default-perf)*100/default,2)\n",
    "        data_dict[\"Rank\"].append(\"Top-3\")\n",
    "        data_dict[\"Perf\"].append(gain)\n",
    "\n",
    "    for i in range(1, 6):\n",
    "        perf = dat.iloc[i][0]\n",
    "        gain = round((default-perf)*100/default,2)\n",
    "        data_dict[\"Rank\"].append(\"Top-5\")\n",
    "        data_dict[\"Perf\"].append(gain)\n",
    "        \n",
    "    for i in range(1, 11):\n",
    "        perf = dat.iloc[i][0]\n",
    "        gain = round((default-perf)*100/default,2)\n",
    "        data_dict[\"Rank\"].append(\"Top-10\")\n",
    "        data_dict[\"Perf\"].append(gain)\n",
    "    \n",
    "    for i in range(1, 26):\n",
    "        perf = dat.iloc[i][0]\n",
    "        gain = round((default-perf)*100/default,2)\n",
    "        data_dict[\"Rank\"].append(\"Top-25\")\n",
    "        data_dict[\"Perf\"].append(gain)\n",
    "        \n",
    "    for i in range(1, 50):\n",
    "        perf = dat.iloc[i][0]\n",
    "        gain = round((default-perf)*100/default,2)\n",
    "        data_dict[\"Rank\"].append(\"Top-50\")\n",
    "        data_dict[\"Perf\"].append(gain)\n",
    "    \n",
    "    return pd.DataFrame(data_dict)\n",
    "\n",
    "def small_to_large():\n",
    "    scale_up = pd.read_csv(\"wc_scale_up_small_to_huge.txt\", header=None)\n",
    "    small_res = pd.read_csv(\"results/hadoop_small_results.csv\")\n",
    "    top_50 = small_res.sort_values(by=\"Perf\").reset_index(drop=True).iloc[:50]\n",
    "    data = preprocess_data(scale_up)\n",
    "    stats = []\n",
    "    for key in [\"Top-1\", \"Top-3\", \"Top-5\", \"Top-10\", \"Top-25\", \"Top-50\"]:\n",
    "        stats.append(data[data[\"Rank\"] == key].max().values.tolist())\n",
    "    \n",
    "    df = pd.DataFrame(stats, columns=[\"Rank\", \"Performance gain\"])\n",
    "    chart = sns.barplot(y=df[\"Performance gain\"], x=df[\"Rank\"])\n",
    "    \n",
    "    chart.set_ylim(0, 50)\n",
    "    chart.yaxis.set_major_locator(ticker.MultipleLocator(10))\n",
    "    chart.set_xticklabels(chart.get_xticklabels(), rotation=45)\n",
    "    chart.set_title(\"Scale-up (Small to Huge)\")\n",
    "    plt.savefig(\"wc_small_to_huge.pdf\", dpi=300, bbox_inches='tight', pad_inches=0)\n",
    "    plt.clf()\n",
    "    \n",
    "if __name__ == \"__main__\":\n",
    "    small_to_large()"
   ]
  },
  {
   "cell_type": "code",
   "execution_count": null,
   "metadata": {},
   "outputs": [],
   "source": [
    "import sys\n",
    "print(sys.maxsize)\n"
   ]
  }
 ],
 "metadata": {
  "kernelspec": {
   "display_name": "Python 3",
   "language": "python",
   "name": "python3"
  },
  "language_info": {
   "codemirror_mode": {
    "name": "ipython",
    "version": 3
   },
   "file_extension": ".py",
   "mimetype": "text/x-python",
   "name": "python",
   "nbconvert_exporter": "python",
   "pygments_lexer": "ipython3",
   "version": "3.7.1"
  }
 },
 "nbformat": 4,
 "nbformat_minor": 2
}
